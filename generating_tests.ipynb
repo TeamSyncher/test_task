{
 "cells": [
  {
   "cell_type": "code",
   "execution_count": 81,
   "id": "06a4a842",
   "metadata": {
    "ExecuteTime": {
     "end_time": "2024-02-06T17:18:18.435994Z",
     "start_time": "2024-02-06T17:18:18.423995Z"
    }
   },
   "outputs": [],
   "source": [
    "from faker import Faker\n",
    "import pandas as pd\n",
    "import numpy as np"
   ]
  },
  {
   "cell_type": "code",
   "execution_count": 82,
   "id": "a2d3d8e4",
   "metadata": {
    "ExecuteTime": {
     "end_time": "2024-02-06T17:18:18.735393Z",
     "start_time": "2024-02-06T17:18:18.719372Z"
    }
   },
   "outputs": [],
   "source": [
    "import random\n",
    "from random import randint\n",
    "import itertools"
   ]
  },
  {
   "cell_type": "code",
   "execution_count": 83,
   "id": "597b5267",
   "metadata": {
    "ExecuteTime": {
     "end_time": "2024-02-06T17:18:19.052587Z",
     "start_time": "2024-02-06T17:18:18.995588Z"
    }
   },
   "outputs": [],
   "source": [
    "fake = Faker()\n",
    "Faker.seed(1234)"
   ]
  },
  {
   "cell_type": "code",
   "execution_count": 84,
   "id": "835cae4a",
   "metadata": {
    "ExecuteTime": {
     "end_time": "2024-02-06T17:18:19.259469Z",
     "start_time": "2024-02-06T17:18:19.253467Z"
    }
   },
   "outputs": [],
   "source": [
    "def get_se_time():\n",
    "    start = fake.time()[:-3]\n",
    "    end = fake.time()[:-3]\n",
    "    if(start > end):\n",
    "        start, end = end, start\n",
    "    return start, end"
   ]
  },
  {
   "cell_type": "code",
   "execution_count": 85,
   "id": "f7f8ed00",
   "metadata": {
    "ExecuteTime": {
     "end_time": "2024-02-06T17:18:19.527657Z",
     "start_time": "2024-02-06T17:18:19.519656Z"
    }
   },
   "outputs": [],
   "source": [
    "def get_time_bween(start, end):\n",
    "    time = fake.time()[:-3]\n",
    "    while(time < start or time > end):\n",
    "        time = fake.time()[:-3]\n",
    "    return time"
   ]
  },
  {
   "cell_type": "code",
   "execution_count": 86,
   "id": "89ea615f",
   "metadata": {
    "ExecuteTime": {
     "end_time": "2024-02-06T17:18:19.763195Z",
     "start_time": "2024-02-06T17:18:19.755195Z"
    }
   },
   "outputs": [],
   "source": [
    "def get_quan_or_price():\n",
    "    return randint(1, 50)"
   ]
  },
  {
   "cell_type": "code",
   "execution_count": 87,
   "id": "81d21da1",
   "metadata": {
    "ExecuteTime": {
     "end_time": "2024-02-06T17:18:20.061538Z",
     "start_time": "2024-02-06T17:18:20.053536Z"
    }
   },
   "outputs": [],
   "source": [
    "def gen_list_of_names():\n",
    "    l = []\n",
    "    for i in range(randint(5, 25)):\n",
    "        l.append(fake.unique.first_name())\n",
    "    return l"
   ]
  },
  {
   "cell_type": "code",
   "execution_count": 88,
   "id": "178a630e",
   "metadata": {
    "ExecuteTime": {
     "end_time": "2024-02-06T17:18:20.392352Z",
     "start_time": "2024-02-06T17:18:20.382353Z"
    }
   },
   "outputs": [],
   "source": [
    "def gen_list_of_time():\n",
    "        l = []\n",
    "        for i in range(randint(10, 30)):\n",
    "            l.append(fake.time()[:-3])\n",
    "        return l"
   ]
  },
  {
   "cell_type": "code",
   "execution_count": 89,
   "id": "90f8eb4f",
   "metadata": {
    "ExecuteTime": {
     "end_time": "2024-02-06T17:18:21.130196Z",
     "start_time": "2024-02-06T17:18:21.117195Z"
    }
   },
   "outputs": [],
   "source": [
    "def get_str_of_events():\n",
    "    quan = get_quan_or_price()\n",
    "    price = get_quan_or_price()\n",
    "    start, end = get_se_time()\n",
    "    txt = str(quan) + '\\n' + start + ' ' + end + '\\n' + str(price) + '\\n'\n",
    "    names = gen_list_of_names()\n",
    "    times = gen_list_of_time()\n",
    "    times.sort()\n",
    "    events = str(quan) + '\\n' + start + ' ' + end + '\\n' + str(price) + '\\n'\n",
    "    for i in range(len(times)):\n",
    "        time = times[i]\n",
    "        event = ''\n",
    "        typeEvent = randint(1, 4)\n",
    "\n",
    "        event = time + ' ' + str(typeEvent) + ' ' + names[randint(0, len(names) - 1)]\n",
    "        if(typeEvent == 2):\n",
    "            event += ' ' + str(randint(1, quan))\n",
    "        event += '\\n'\n",
    "        events += event\n",
    "    events = events[:-1]\n",
    "    return events"
   ]
  },
  {
   "cell_type": "code",
   "execution_count": 90,
   "id": "10b97a5b",
   "metadata": {
    "ExecuteTime": {
     "end_time": "2024-02-06T17:18:23.151681Z",
     "start_time": "2024-02-06T17:18:23.139680Z"
    }
   },
   "outputs": [],
   "source": [
    "def make_tests(a):\n",
    "    for i in range(a):\n",
    "        filename = 'input' + str(i + 1) + '.txt'\n",
    "        f = open(filename, 'w')\n",
    "        f.write(get_str_of_events().lower())\n",
    "        f.close()"
   ]
  },
  {
   "cell_type": "code",
   "execution_count": 91,
   "id": "331b15d0",
   "metadata": {
    "ExecuteTime": {
     "end_time": "2024-02-06T17:18:31.759440Z",
     "start_time": "2024-02-06T17:18:31.728443Z"
    }
   },
   "outputs": [],
   "source": [
    "make_tests(15)"
   ]
  }
 ],
 "metadata": {
  "kernelspec": {
   "display_name": "Python 3 (ipykernel)",
   "language": "python",
   "name": "python3"
  },
  "language_info": {
   "codemirror_mode": {
    "name": "ipython",
    "version": 3
   },
   "file_extension": ".py",
   "mimetype": "text/x-python",
   "name": "python",
   "nbconvert_exporter": "python",
   "pygments_lexer": "ipython3",
   "version": "3.10.13"
  },
  "toc": {
   "base_numbering": 1,
   "nav_menu": {},
   "number_sections": true,
   "sideBar": true,
   "skip_h1_title": false,
   "title_cell": "Table of Contents",
   "title_sidebar": "Contents",
   "toc_cell": false,
   "toc_position": {},
   "toc_section_display": true,
   "toc_window_display": false
  },
  "varInspector": {
   "cols": {
    "lenName": 16,
    "lenType": 16,
    "lenVar": 40
   },
   "kernels_config": {
    "python": {
     "delete_cmd_postfix": "",
     "delete_cmd_prefix": "del ",
     "library": "var_list.py",
     "varRefreshCmd": "print(var_dic_list())"
    },
    "r": {
     "delete_cmd_postfix": ") ",
     "delete_cmd_prefix": "rm(",
     "library": "var_list.r",
     "varRefreshCmd": "cat(var_dic_list()) "
    }
   },
   "types_to_exclude": [
    "module",
    "function",
    "builtin_function_or_method",
    "instance",
    "_Feature"
   ],
   "window_display": false
  }
 },
 "nbformat": 4,
 "nbformat_minor": 5
}
